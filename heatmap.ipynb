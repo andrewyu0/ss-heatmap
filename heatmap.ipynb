{
 "cells": [
  {
   "cell_type": "code",
   "execution_count": null,
   "metadata": {},
   "outputs": [],
   "source": [
    "import os, matplotlib.pyplot as plt, matplotlib.dates as mdates\n",
    "from IPython.display import display, HTML\n"
   ]
  },
  {
   "cell_type": "code",
   "execution_count": null,
   "metadata": {},
   "outputs": [],
   "source": [
    "path = './ss'\n",
    "start_date = datetime.strptime('2023-06-20', '%Y-%m-%d')\n",
    "end_date = datetime.strptime('2023-06-27', '%Y-%m-%d')\n",
    "\n",
    "files = os.listdir(path)\n",
    "data = {}\n",
    "\n",
    "for file in files:\n",
    "    if 'screenshot' in file.lower() and file.endswith('.png'):\n",
    "        date_string = file[11:21]\n",
    "        date_obj = datetime.strptime(date_string, '%Y-%m-%d')\n",
    "\n",
    "        if start_date <= date_obj <= end_date:\n",
    "            if date_obj not in data:\n",
    "                data[date_obj] = []\n",
    "            data[date_obj].append(f\"<a href='{path}/{file}'>{file}</a>\")\n",
    "\n",
    "html = \"\"\n",
    "for d in sorted(data):\n",
    "    html += f\"<h3>{d.strftime('%Y-%m-%d')}</h3><ul>\"\n",
    "    for link in data[d]:\n",
    "        html += f\"<li>{link}</li>\"\n",
    "    html += \"</ul>\"\n",
    "\n",
    "display(HTML(html))"
   ]
  }
 ],
 "metadata": {
  "kernelspec": {
   "display_name": "venv",
   "language": "python",
   "name": "python3"
  },
  "language_info": {
   "codemirror_mode": {
    "name": "ipython",
    "version": 3
   },
   "file_extension": ".py",
   "mimetype": "text/x-python",
   "name": "python",
   "nbconvert_exporter": "python",
   "pygments_lexer": "ipython3",
   "version": "3.10.8"
  },
  "orig_nbformat": 4
 },
 "nbformat": 4,
 "nbformat_minor": 2
}
